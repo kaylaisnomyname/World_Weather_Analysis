{
 "cells": [
  {
   "cell_type": "code",
   "execution_count": null,
   "id": "9f2e052c",
   "metadata": {},
   "outputs": [],
   "source": [
    "# m6 challenge try out"
   ]
  },
  {
   "cell_type": "code",
   "execution_count": 24,
   "id": "83806922",
   "metadata": {},
   "outputs": [
    {
     "name": "stdout",
     "output_type": "stream",
     "text": [
      "[28.493889130135944, -20.011262486885283, 71.80391117525951, -3.9842531374810957, -20.19947025949386, -24.162704229274723, 53.39942759389007, -59.76217875702433, -53.341820458630885, 2.6945655060408367]\n"
     ]
    }
   ],
   "source": [
    "# create a set of 20 random latitudes \n",
    "import random\n",
    "x = 1\n",
    "latitudes = []\n",
    "while x < 21:\n",
    "    random_lat = random.randint(-90, 89) + random.random()\n",
    "    latitudes.append(random_lat)\n",
    "    x += 1\n",
    "print(latitudes[:10])"
   ]
  },
  {
   "cell_type": "code",
   "execution_count": 25,
   "id": "b7762b7e",
   "metadata": {},
   "outputs": [
    {
     "data": {
      "text/plain": [
       "[-37.550136357854406,\n",
       " -89.62607292481862,\n",
       " 74.37339211511319,\n",
       " -4.487165020711351,\n",
       " 18.625222671565083,\n",
       " -2.602075702160655,\n",
       " -30.326499095556066,\n",
       " 25.94583615906816,\n",
       " 63.72507518619218,\n",
       " 1.6481825480955399]"
      ]
     },
     "execution_count": 25,
     "metadata": {},
     "output_type": "execute_result"
    }
   ],
   "source": [
    "# create a set of 20 random longitudes\n",
    "y = 1\n",
    "longitudes = []\n",
    "while y < 21:\n",
    "    random_lon = random.randint(-90, 89) + random.random()\n",
    "    longitudes.append(random_lon)\n",
    "    y += 1\n",
    "longitudes[:10]"
   ]
  },
  {
   "cell_type": "code",
   "execution_count": 31,
   "id": "797c1349",
   "metadata": {},
   "outputs": [],
   "source": [
    "# zip and display the lat and lng\n",
    "coordinates = zip(latitudes,longitudes)"
   ]
  },
  {
   "cell_type": "code",
   "execution_count": 32,
   "id": "743245cf",
   "metadata": {},
   "outputs": [],
   "source": [
    "# retrieve the nearist cities from citypy\n",
    "# imports\n",
    "from citipy import citipy\n",
    "import pandas as pd"
   ]
  },
  {
   "cell_type": "code",
   "execution_count": 33,
   "id": "2241a3c8",
   "metadata": {},
   "outputs": [
    {
     "data": {
      "text/plain": [
       "['ribeira grande',\n",
       " 'pisco',\n",
       " 'pangody',\n",
       " 'tabou',\n",
       " 'grootfontein',\n",
       " 'jamestown',\n",
       " 'grindavik',\n",
       " 'kruisfontein',\n",
       " 'taolanaro',\n",
       " 'anloga']"
      ]
     },
     "execution_count": 33,
     "metadata": {},
     "output_type": "execute_result"
    }
   ],
   "source": [
    "# retrieve the nearist cities from citipy, display first 10 cities\n",
    "cities = []\n",
    "for coordinate in coordinates:\n",
    "    cities.append(citipy.nearest_city(coordinate[0], coordinate[1]).city_name)\n",
    "cities"
   ]
  },
  {
   "cell_type": "code",
   "execution_count": 35,
   "id": "ed4f1eb8",
   "metadata": {},
   "outputs": [
    {
     "data": {
      "text/plain": [
       "20"
      ]
     },
     "execution_count": 35,
     "metadata": {},
     "output_type": "execute_result"
    }
   ],
   "source": [
    "len(cities)"
   ]
  },
  {
   "cell_type": "code",
   "execution_count": 36,
   "id": "71a52f96",
   "metadata": {},
   "outputs": [
    {
     "data": {
      "text/plain": [
       "['ribeira grande',\n",
       " 'pisco',\n",
       " 'pangody',\n",
       " 'tabou',\n",
       " 'grootfontein',\n",
       " 'jamestown',\n",
       " 'grindavik',\n",
       " 'kruisfontein',\n",
       " 'taolanaro',\n",
       " 'anloga',\n",
       " 'grand gaube',\n",
       " 'lagoa',\n",
       " 'ushuaia',\n",
       " 'berbera',\n",
       " 'taolanaro',\n",
       " 'cidreira',\n",
       " 'saint-philippe',\n",
       " 'vila velha',\n",
       " 'taolanaro',\n",
       " 'ushuaia']"
      ]
     },
     "execution_count": 36,
     "metadata": {},
     "output_type": "execute_result"
    }
   ],
   "source": [
    "cities"
   ]
  },
  {
   "cell_type": "code",
   "execution_count": 37,
   "id": "fefc4807",
   "metadata": {},
   "outputs": [],
   "source": [
    "# api call with openweathermap\n",
    "import requests\n",
    "from config import weather_api_key"
   ]
  },
  {
   "cell_type": "code",
   "execution_count": 38,
   "id": "9ffe93fd",
   "metadata": {},
   "outputs": [],
   "source": [
    "# Starting URL for Weather Map API Call.\n",
    "url = \"http://api.openweathermap.org/data/2.5/weather?units=Metric&APPID=\" + weather_api_key"
   ]
  },
  {
   "cell_type": "code",
   "execution_count": 44,
   "id": "6dab401f",
   "metadata": {},
   "outputs": [
    {
     "name": "stdout",
     "output_type": "stream",
     "text": [
      "http://api.openweathermap.org/data/2.5/weather?units=Metric&APPID=e98abd2babc446681bc8eabb046faa0b&q=taolanaro\n"
     ]
    }
   ],
   "source": []
  },
  {
   "cell_type": "code",
   "execution_count": 42,
   "id": "3df50663",
   "metadata": {},
   "outputs": [],
   "source": [
    "# initialize lists \n",
    "# country = []\n",
    "# lng = []\n",
    "# lat = []\n",
    "# max_tem = []\n",
    "# humidity = []\n",
    "# cloudiness = []\n",
    "# wind_speed = []\n",
    "# c_description = []\n"
   ]
  },
  {
   "cell_type": "code",
   "execution_count": 48,
   "id": "4fe03acf",
   "metadata": {},
   "outputs": [
    {
     "name": "stdout",
     "output_type": "stream",
     "text": [
      "beginning data retrieval\n",
      "--------------------------------\n",
      "taolanaro not found. Skiping\n",
      "taolanaro not found. Skiping\n",
      "taolanaro not found. Skiping\n",
      "--------------------------------\n",
      "Retrieval complete\n",
      "--------------------------------\n"
     ]
    }
   ],
   "source": [
    "# loop over cities to retrieve data\n",
    "city_data = []\n",
    "\n",
    "print(\"beginning data retrieval\")\n",
    "print(\"--------------------------------\")\n",
    "\n",
    "no_info_city = []\n",
    "for city in cities:\n",
    "    # create an endpoint URL for each city.\n",
    "    city_url = url + \"&q=\" + city.replace(\" \", \"+\")\n",
    "    \n",
    "    \n",
    "    try:\n",
    "        # parse data in json\n",
    "        city_info = requests.get(city_url).json()\n",
    "        \n",
    "        country = city_info['sys']['country']\n",
    "        lng = city_info['coord']['lon']\n",
    "        lat = city_info['coord']['lat']\n",
    "        max_temp = city_info['main']['temp_max']\n",
    "        humidity = city_info['main']['humidity']\n",
    "        cloudiness = city_info['clouds']['all']\n",
    "        wind_speed = city_info['wind']['speed']\n",
    "        c_description = city_info['weather'][0]['description']\n",
    "        \n",
    "        city_data.append({\"City\":city.title(),\n",
    "                          \"Country\": country,\n",
    "                          \"Lat\":lat,\n",
    "                          \"Lng\": lng,\n",
    "                          \"Max Temp\": max_temp,\n",
    "                          \"Humidity\": humidity,\n",
    "                          \"Cloudiness\": cloudiness,\n",
    "                          \"Wind Speed\": wind_speed,\n",
    "                          \"Current Description\": c_description})\n",
    "        \n",
    "    except:\n",
    "        print(f\"{city} not found. Skiping\")\n",
    "        pass\n",
    "print(\"--------------------------------\")\n",
    "print(\"Retrieval complete\")\n",
    "print(\"--------------------------------\")"
   ]
  },
  {
   "cell_type": "code",
   "execution_count": 49,
   "id": "34b18b0d",
   "metadata": {},
   "outputs": [
    {
     "data": {
      "text/plain": [
       "17"
      ]
     },
     "execution_count": 49,
     "metadata": {},
     "output_type": "execute_result"
    }
   ],
   "source": [
    "len(city_data)"
   ]
  },
  {
   "cell_type": "code",
   "execution_count": 50,
   "id": "968e7cdd",
   "metadata": {},
   "outputs": [
    {
     "data": {
      "text/html": [
       "<div>\n",
       "<style scoped>\n",
       "    .dataframe tbody tr th:only-of-type {\n",
       "        vertical-align: middle;\n",
       "    }\n",
       "\n",
       "    .dataframe tbody tr th {\n",
       "        vertical-align: top;\n",
       "    }\n",
       "\n",
       "    .dataframe thead th {\n",
       "        text-align: right;\n",
       "    }\n",
       "</style>\n",
       "<table border=\"1\" class=\"dataframe\">\n",
       "  <thead>\n",
       "    <tr style=\"text-align: right;\">\n",
       "      <th></th>\n",
       "      <th>City</th>\n",
       "      <th>Country</th>\n",
       "      <th>Lat</th>\n",
       "      <th>Lng</th>\n",
       "      <th>Max Temp</th>\n",
       "      <th>Humidity</th>\n",
       "      <th>Cloudiness</th>\n",
       "      <th>Wind Speed</th>\n",
       "      <th>Current Description</th>\n",
       "    </tr>\n",
       "  </thead>\n",
       "  <tbody>\n",
       "    <tr>\n",
       "      <th>0</th>\n",
       "      <td>Ribeira Grande</td>\n",
       "      <td>PT</td>\n",
       "      <td>38.5167</td>\n",
       "      <td>-28.7000</td>\n",
       "      <td>21.42</td>\n",
       "      <td>90</td>\n",
       "      <td>100</td>\n",
       "      <td>10.47</td>\n",
       "      <td>overcast clouds</td>\n",
       "    </tr>\n",
       "    <tr>\n",
       "      <th>1</th>\n",
       "      <td>Pisco</td>\n",
       "      <td>PE</td>\n",
       "      <td>-13.7000</td>\n",
       "      <td>-76.2167</td>\n",
       "      <td>18.03</td>\n",
       "      <td>77</td>\n",
       "      <td>0</td>\n",
       "      <td>5.66</td>\n",
       "      <td>clear sky</td>\n",
       "    </tr>\n",
       "    <tr>\n",
       "      <th>2</th>\n",
       "      <td>Pangody</td>\n",
       "      <td>RU</td>\n",
       "      <td>65.8500</td>\n",
       "      <td>74.4859</td>\n",
       "      <td>-2.59</td>\n",
       "      <td>89</td>\n",
       "      <td>39</td>\n",
       "      <td>3.57</td>\n",
       "      <td>scattered clouds</td>\n",
       "    </tr>\n",
       "    <tr>\n",
       "      <th>3</th>\n",
       "      <td>Tabou</td>\n",
       "      <td>CI</td>\n",
       "      <td>4.4230</td>\n",
       "      <td>-7.3528</td>\n",
       "      <td>25.49</td>\n",
       "      <td>89</td>\n",
       "      <td>100</td>\n",
       "      <td>4.20</td>\n",
       "      <td>light rain</td>\n",
       "    </tr>\n",
       "    <tr>\n",
       "      <th>4</th>\n",
       "      <td>Grootfontein</td>\n",
       "      <td>NA</td>\n",
       "      <td>-19.5667</td>\n",
       "      <td>18.1167</td>\n",
       "      <td>13.76</td>\n",
       "      <td>24</td>\n",
       "      <td>0</td>\n",
       "      <td>0.00</td>\n",
       "      <td>clear sky</td>\n",
       "    </tr>\n",
       "    <tr>\n",
       "      <th>5</th>\n",
       "      <td>Jamestown</td>\n",
       "      <td>US</td>\n",
       "      <td>42.0970</td>\n",
       "      <td>-79.2353</td>\n",
       "      <td>20.77</td>\n",
       "      <td>80</td>\n",
       "      <td>90</td>\n",
       "      <td>3.58</td>\n",
       "      <td>overcast clouds</td>\n",
       "    </tr>\n",
       "    <tr>\n",
       "      <th>6</th>\n",
       "      <td>Grindavik</td>\n",
       "      <td>IS</td>\n",
       "      <td>63.8424</td>\n",
       "      <td>-22.4338</td>\n",
       "      <td>4.26</td>\n",
       "      <td>93</td>\n",
       "      <td>75</td>\n",
       "      <td>1.03</td>\n",
       "      <td>broken clouds</td>\n",
       "    </tr>\n",
       "    <tr>\n",
       "      <th>7</th>\n",
       "      <td>Kruisfontein</td>\n",
       "      <td>ZA</td>\n",
       "      <td>-34.0033</td>\n",
       "      <td>24.7314</td>\n",
       "      <td>11.21</td>\n",
       "      <td>77</td>\n",
       "      <td>34</td>\n",
       "      <td>3.06</td>\n",
       "      <td>scattered clouds</td>\n",
       "    </tr>\n",
       "    <tr>\n",
       "      <th>8</th>\n",
       "      <td>Anloga</td>\n",
       "      <td>GH</td>\n",
       "      <td>5.7947</td>\n",
       "      <td>0.8973</td>\n",
       "      <td>26.11</td>\n",
       "      <td>85</td>\n",
       "      <td>41</td>\n",
       "      <td>4.66</td>\n",
       "      <td>light rain</td>\n",
       "    </tr>\n",
       "    <tr>\n",
       "      <th>9</th>\n",
       "      <td>Grand Gaube</td>\n",
       "      <td>MU</td>\n",
       "      <td>-20.0064</td>\n",
       "      <td>57.6608</td>\n",
       "      <td>22.22</td>\n",
       "      <td>91</td>\n",
       "      <td>99</td>\n",
       "      <td>1.34</td>\n",
       "      <td>light rain</td>\n",
       "    </tr>\n",
       "  </tbody>\n",
       "</table>\n",
       "</div>"
      ],
      "text/plain": [
       "             City Country      Lat      Lng  Max Temp  Humidity  Cloudiness  \\\n",
       "0  Ribeira Grande      PT  38.5167 -28.7000     21.42        90         100   \n",
       "1           Pisco      PE -13.7000 -76.2167     18.03        77           0   \n",
       "2         Pangody      RU  65.8500  74.4859     -2.59        89          39   \n",
       "3           Tabou      CI   4.4230  -7.3528     25.49        89         100   \n",
       "4    Grootfontein      NA -19.5667  18.1167     13.76        24           0   \n",
       "5       Jamestown      US  42.0970 -79.2353     20.77        80          90   \n",
       "6       Grindavik      IS  63.8424 -22.4338      4.26        93          75   \n",
       "7    Kruisfontein      ZA -34.0033  24.7314     11.21        77          34   \n",
       "8          Anloga      GH   5.7947   0.8973     26.11        85          41   \n",
       "9     Grand Gaube      MU -20.0064  57.6608     22.22        91          99   \n",
       "\n",
       "   Wind Speed Current Description  \n",
       "0       10.47     overcast clouds  \n",
       "1        5.66           clear sky  \n",
       "2        3.57    scattered clouds  \n",
       "3        4.20          light rain  \n",
       "4        0.00           clear sky  \n",
       "5        3.58     overcast clouds  \n",
       "6        1.03       broken clouds  \n",
       "7        3.06    scattered clouds  \n",
       "8        4.66          light rain  \n",
       "9        1.34          light rain  "
      ]
     },
     "execution_count": 50,
     "metadata": {},
     "output_type": "execute_result"
    }
   ],
   "source": [
    "# add results into a new df\n",
    "result_df = pd.DataFrame(city_data)\n",
    "result_df.head(10)"
   ]
  },
  {
   "cell_type": "code",
   "execution_count": 51,
   "id": "43b289b4",
   "metadata": {},
   "outputs": [
    {
     "data": {
      "text/html": [
       "<div>\n",
       "<style scoped>\n",
       "    .dataframe tbody tr th:only-of-type {\n",
       "        vertical-align: middle;\n",
       "    }\n",
       "\n",
       "    .dataframe tbody tr th {\n",
       "        vertical-align: top;\n",
       "    }\n",
       "\n",
       "    .dataframe thead th {\n",
       "        text-align: right;\n",
       "    }\n",
       "</style>\n",
       "<table border=\"1\" class=\"dataframe\">\n",
       "  <thead>\n",
       "    <tr style=\"text-align: right;\">\n",
       "      <th></th>\n",
       "      <th>City</th>\n",
       "      <th>Country</th>\n",
       "      <th>Lat</th>\n",
       "      <th>Lng</th>\n",
       "      <th>Max Temp</th>\n",
       "      <th>Humidity</th>\n",
       "      <th>Cloudiness</th>\n",
       "      <th>Wind Speed</th>\n",
       "      <th>Current Description</th>\n",
       "    </tr>\n",
       "  </thead>\n",
       "  <tbody>\n",
       "    <tr>\n",
       "      <th>0</th>\n",
       "      <td>Ribeira Grande</td>\n",
       "      <td>PT</td>\n",
       "      <td>38.52</td>\n",
       "      <td>-28.70</td>\n",
       "      <td>21.42</td>\n",
       "      <td>90</td>\n",
       "      <td>100</td>\n",
       "      <td>10.47</td>\n",
       "      <td>overcast clouds</td>\n",
       "    </tr>\n",
       "    <tr>\n",
       "      <th>1</th>\n",
       "      <td>Pisco</td>\n",
       "      <td>PE</td>\n",
       "      <td>-13.70</td>\n",
       "      <td>-76.22</td>\n",
       "      <td>18.03</td>\n",
       "      <td>77</td>\n",
       "      <td>0</td>\n",
       "      <td>5.66</td>\n",
       "      <td>clear sky</td>\n",
       "    </tr>\n",
       "    <tr>\n",
       "      <th>2</th>\n",
       "      <td>Pangody</td>\n",
       "      <td>RU</td>\n",
       "      <td>65.85</td>\n",
       "      <td>74.49</td>\n",
       "      <td>-2.59</td>\n",
       "      <td>89</td>\n",
       "      <td>39</td>\n",
       "      <td>3.57</td>\n",
       "      <td>scattered clouds</td>\n",
       "    </tr>\n",
       "    <tr>\n",
       "      <th>3</th>\n",
       "      <td>Tabou</td>\n",
       "      <td>CI</td>\n",
       "      <td>4.42</td>\n",
       "      <td>-7.35</td>\n",
       "      <td>25.49</td>\n",
       "      <td>89</td>\n",
       "      <td>100</td>\n",
       "      <td>4.20</td>\n",
       "      <td>light rain</td>\n",
       "    </tr>\n",
       "    <tr>\n",
       "      <th>4</th>\n",
       "      <td>Grootfontein</td>\n",
       "      <td>NA</td>\n",
       "      <td>-19.57</td>\n",
       "      <td>18.12</td>\n",
       "      <td>13.76</td>\n",
       "      <td>24</td>\n",
       "      <td>0</td>\n",
       "      <td>0.00</td>\n",
       "      <td>clear sky</td>\n",
       "    </tr>\n",
       "    <tr>\n",
       "      <th>5</th>\n",
       "      <td>Jamestown</td>\n",
       "      <td>US</td>\n",
       "      <td>42.10</td>\n",
       "      <td>-79.24</td>\n",
       "      <td>20.77</td>\n",
       "      <td>80</td>\n",
       "      <td>90</td>\n",
       "      <td>3.58</td>\n",
       "      <td>overcast clouds</td>\n",
       "    </tr>\n",
       "    <tr>\n",
       "      <th>6</th>\n",
       "      <td>Grindavik</td>\n",
       "      <td>IS</td>\n",
       "      <td>63.84</td>\n",
       "      <td>-22.43</td>\n",
       "      <td>4.26</td>\n",
       "      <td>93</td>\n",
       "      <td>75</td>\n",
       "      <td>1.03</td>\n",
       "      <td>broken clouds</td>\n",
       "    </tr>\n",
       "    <tr>\n",
       "      <th>7</th>\n",
       "      <td>Kruisfontein</td>\n",
       "      <td>ZA</td>\n",
       "      <td>-34.00</td>\n",
       "      <td>24.73</td>\n",
       "      <td>11.21</td>\n",
       "      <td>77</td>\n",
       "      <td>34</td>\n",
       "      <td>3.06</td>\n",
       "      <td>scattered clouds</td>\n",
       "    </tr>\n",
       "    <tr>\n",
       "      <th>8</th>\n",
       "      <td>Anloga</td>\n",
       "      <td>GH</td>\n",
       "      <td>5.79</td>\n",
       "      <td>0.90</td>\n",
       "      <td>26.11</td>\n",
       "      <td>85</td>\n",
       "      <td>41</td>\n",
       "      <td>4.66</td>\n",
       "      <td>light rain</td>\n",
       "    </tr>\n",
       "    <tr>\n",
       "      <th>9</th>\n",
       "      <td>Grand Gaube</td>\n",
       "      <td>MU</td>\n",
       "      <td>-20.01</td>\n",
       "      <td>57.66</td>\n",
       "      <td>22.22</td>\n",
       "      <td>91</td>\n",
       "      <td>99</td>\n",
       "      <td>1.34</td>\n",
       "      <td>light rain</td>\n",
       "    </tr>\n",
       "  </tbody>\n",
       "</table>\n",
       "</div>"
      ],
      "text/plain": [
       "             City Country     Lat     Lng  Max Temp  Humidity  Cloudiness  \\\n",
       "0  Ribeira Grande      PT   38.52  -28.70     21.42        90         100   \n",
       "1           Pisco      PE  -13.70  -76.22     18.03        77           0   \n",
       "2         Pangody      RU   65.85   74.49     -2.59        89          39   \n",
       "3           Tabou      CI    4.42   -7.35     25.49        89         100   \n",
       "4    Grootfontein      NA  -19.57   18.12     13.76        24           0   \n",
       "5       Jamestown      US   42.10  -79.24     20.77        80          90   \n",
       "6       Grindavik      IS   63.84  -22.43      4.26        93          75   \n",
       "7    Kruisfontein      ZA  -34.00   24.73     11.21        77          34   \n",
       "8          Anloga      GH    5.79    0.90     26.11        85          41   \n",
       "9     Grand Gaube      MU  -20.01   57.66     22.22        91          99   \n",
       "\n",
       "   Wind Speed Current Description  \n",
       "0       10.47     overcast clouds  \n",
       "1        5.66           clear sky  \n",
       "2        3.57    scattered clouds  \n",
       "3        4.20          light rain  \n",
       "4        0.00           clear sky  \n",
       "5        3.58     overcast clouds  \n",
       "6        1.03       broken clouds  \n",
       "7        3.06    scattered clouds  \n",
       "8        4.66          light rain  \n",
       "9        1.34          light rain  "
      ]
     },
     "execution_count": 51,
     "metadata": {},
     "output_type": "execute_result"
    }
   ],
   "source": [
    "# formatting, capitalized city name, lat lng 2 deci\n",
    "result_df[\"Lat\"] = result_df[\"Lat\"].map(\"{:.2f}\".format)\n",
    "result_df[\"Lng\"] = result_df[\"Lng\"].map(\"{:.2f}\".format)\n",
    "result_df.head(10)"
   ]
  },
  {
   "cell_type": "code",
   "execution_count": null,
   "id": "3b8b04fa",
   "metadata": {},
   "outputs": [],
   "source": [
    "result_df[\"City\"] = result_df[\"City\"].str.title()\n",
    "result_df.head(10)\n",
    "\n",
    "# D 1 worked here, next export to csv\n"
   ]
  }
 ],
 "metadata": {
  "kernelspec": {
   "display_name": "PythonData",
   "language": "python",
   "name": "pythondata"
  },
  "language_info": {
   "codemirror_mode": {
    "name": "ipython",
    "version": 3
   },
   "file_extension": ".py",
   "mimetype": "text/x-python",
   "name": "python",
   "nbconvert_exporter": "python",
   "pygments_lexer": "ipython3",
   "version": "3.8.8"
  }
 },
 "nbformat": 4,
 "nbformat_minor": 5
}
